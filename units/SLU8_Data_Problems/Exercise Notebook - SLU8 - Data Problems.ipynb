{
 "cells": [
  {
   "cell_type": "markdown",
   "metadata": {},
   "source": [
    "# Exercise Notebook - SLU8 - Data Problems\n",
    "\n",
    "This notebook is associated with this [presentation](https://docs.google.com/presentation/d/1bu6ORtlvKfPI7ZwEA-BOSxpg1pHGvsemFHo0MhoR6ss/edit?usp=sharing). What we cover here:\n",
    "- Common data entry problems\n",
    "- Missing data\n",
    "- Duplicated data\n",
    "- Outlier detection\n",
    "- Dealing with outliers\n",
    "- Nunique\n",
    "- Drop duplicates\n",
    "- Converting dtypes\n",
    "- Data imputation techniques\n",
    "\n",
    "The **main objective** is to arrive at the end of this notebook with our dataset \"cleaned\" of any problems: entry problems, duplicated eliminated, missing values all identified, and outliers handles.\n",
    "\n",
    "-----\n",
    "_By: Hugo Lopes  \n",
    "LDSA - SLU8_"
   ]
  },
  {
   "cell_type": "code",
   "execution_count": null,
   "metadata": {},
   "outputs": [],
   "source": [
    "import pandas as pd\n",
    "import numpy as np\n",
    "\n",
    "% matplotlib inline\n",
    "from matplotlib import pyplot as plt "
   ]
  },
  {
   "cell_type": "markdown",
   "metadata": {},
   "source": [
    "# Load Data\n",
    "We will use an extraction **and altered** (!) set of the [Titanic Dataset](https://www.kaggle.com/c/titanic)."
   ]
  },
  {
   "cell_type": "code",
   "execution_count": null,
   "metadata": {},
   "outputs": [],
   "source": [
    "df = pd.read_csv('titanic_exercise.csv')\n",
    "print('Initial Shape:', df.shape)\n",
    "df.head()"
   ]
  },
  {
   "cell_type": "markdown",
   "metadata": {},
   "source": [
    "# Exercise 1: Data Entry Problems\n",
    "The feature `Sex` has a problem. Let's solve it."
   ]
  },
  {
   "cell_type": "code",
   "execution_count": null,
   "metadata": {},
   "outputs": [],
   "source": [
    "# EXERCISE\n",
    "# Check the unique values of Sex, and assign it to a variable 'uniques' \n",
    "# uniques = ...\n",
    "# YOUR CODE HERE (~1 line)\n",
    "raise NotImplementedError()\n",
    "\n",
    "\n",
    "# For validation (do not modify):\n",
    "print('Unique values:', uniques)"
   ]
  },
  {
   "cell_type": "markdown",
   "metadata": {},
   "source": [
    "Expected output:\n",
    "    \n",
    "    Unique values: ['male' 'female' 'Squirrel']"
   ]
  },
  {
   "cell_type": "markdown",
   "metadata": {},
   "source": [
    "Looks like we found a _Squirrel_! This does not make sense!! Let's drop the rows where we can find `Squirrel`. First, let's check how many squirrels..."
   ]
  },
  {
   "cell_type": "code",
   "execution_count": null,
   "metadata": {},
   "outputs": [],
   "source": [
    "# EXERCISE\n",
    "# Find the rows with Squirrel (create a boolean mask)\n",
    "# mask = ...\n",
    "# YOUR CODE HERE\n",
    "raise NotImplementedError()\n",
    "\n",
    "\n",
    "# For validation (do not modify):\n",
    "print('Number of Squirrels =', mask.sum())"
   ]
  },
  {
   "cell_type": "markdown",
   "metadata": {},
   "source": [
    "Expected output:\n",
    "    \n",
    "    Number of Squirrels = 1"
   ]
  },
  {
   "cell_type": "code",
   "execution_count": null,
   "metadata": {},
   "outputs": [],
   "source": [
    "# Now drop the rows that have Squirrel (update 'df')\n",
    "# df = ...\n",
    "# YOUR CODE HERE\n",
    "raise NotImplementedError()\n",
    "\n",
    "\n",
    "# For validation (do not modify):\n",
    "print('Shape after dropping:', df.shape)"
   ]
  },
  {
   "cell_type": "markdown",
   "metadata": {},
   "source": [
    "Expected output:\n",
    "    \n",
    "    Shape after dropping: (895, 12)"
   ]
  },
  {
   "cell_type": "markdown",
   "metadata": {},
   "source": [
    "# Exercise 2: Duplicated Data\n",
    "Time to check if we have duplicated observations (rows). "
   ]
  },
  {
   "cell_type": "code",
   "execution_count": null,
   "metadata": {},
   "outputs": [],
   "source": [
    "# Find the duplicated lines according to the 'PassengerId' subset. \n",
    "# Create a mask out of it (hint: use 'duplicated()')\n",
    "# duplicates = ...\n",
    "# YOUR CODE HERE (~1 line)\n",
    "raise NotImplementedError()\n",
    "\n",
    "print('Number of duplicates:', duplicates.sum())"
   ]
  },
  {
   "cell_type": "markdown",
   "metadata": {},
   "source": [
    "Expected output:\n",
    "\n",
    "    Number of duplicates: 5"
   ]
  },
  {
   "cell_type": "markdown",
   "metadata": {},
   "source": [
    "Now, after verification, we know how many duplicates we have. It's time to drop the duplicated rows:"
   ]
  },
  {
   "cell_type": "code",
   "execution_count": null,
   "metadata": {},
   "outputs": [],
   "source": [
    "# Drop the duplicated lines according to the 'PassengerId' subset. \n",
    "# Create a mask out of it (hint: use 'duplicated()')\n",
    "# duplicates = ...\n",
    "# YOUR CODE HERE (~1 line)\n",
    "raise NotImplementedError()\n",
    "\n",
    "# For validation (do not modify):\n",
    "print('Number of duplicated lines after drop:', df.duplicated().sum())\n",
    "print('Shape after drop:', df.shape)"
   ]
  },
  {
   "cell_type": "markdown",
   "metadata": {},
   "source": [
    "Expected output:\n",
    "\n",
    "    Number of duplicated lines after drop: 0\n",
    "    Shape after drop: (890, 12)"
   ]
  },
  {
   "cell_type": "markdown",
   "metadata": {},
   "source": [
    "# Exercise 3: Missing Values\n",
    "The missing values are the single most complex and common data problems there is. There are several full books about handling missing values! \n",
    "\n",
    "You can think of cases where the presence of missing values is just completely random, or cases where missing values are _missing_ for some reason (e.g., I may not want to tell my income for a loan application because I'm a very small amount of money, or because I simply don't have income). \n",
    "\n",
    "Since this is a very complex topic we will focus on solving it the easy way (not optimal):\n",
    "- Dropping columns with a high percentage of missing values (rule of thumb >80-90%).\n",
    "- Numerical features: Replacing the missing values by a value.\n",
    "- Categorical features: Replacing the missing values by a new category (e.g. 'unknown')."
   ]
  },
  {
   "cell_type": "code",
   "execution_count": null,
   "metadata": {},
   "outputs": [],
   "source": [
    "def eliminate_missing_values(data):\n",
    "    \"\"\"\n",
    "    Eliminate the missing values, numpy.nan, of numerical features and\n",
    "    categorical features. Also, drop one of the features which has a lot of missing data.\n",
    "    \"\"\"    \n",
    "    # 1) Analysis\n",
    "    # Count the number of missing values in the full dataset. \n",
    "    # Use pandas '.isnull()'. Number_of_missing should be a single int number\n",
    "    # number_of_missing = ...\n",
    "    # YOUR CODE HERE (~1 line)\n",
    "    raise NotImplementedError()\n",
    "    \n",
    "    \n",
    "    # 2) Cleaning missing data on numerical features\n",
    "    # Fill the missing values of 'Age' by the median. \n",
    "    # You can use 'fillna'\n",
    "    # df.Age = ...\n",
    "    # YOUR CODE HERE (~1-2 lines)\n",
    "    raise NotImplementedError()\n",
    "    \n",
    "    \n",
    "    # 3) Solving Categorical Features\n",
    "    # Replace the missing values in the feature 'Embarked' by 'unknown'\n",
    "    # You can use 'fillna()'\n",
    "    # df.Embarked = ...\n",
    "    # YOUR CODE HERE (~1 line)\n",
    "    raise NotImplementedError()\n",
    "    \n",
    "    \n",
    "    # 4) Drop the feature 'Cabin' which has a lot of missing values\n",
    "    # You can use the method 'drop(...)'. \n",
    "    # Hint: remember what you learned about the axis number\n",
    "    # df = ...\n",
    "    # YOUR CODE HERE (~1 line)\n",
    "    raise NotImplementedError()\n",
    "    \n",
    "    return number_of_missing, data"
   ]
  },
  {
   "cell_type": "code",
   "execution_count": null,
   "metadata": {
    "scrolled": false
   },
   "outputs": [],
   "source": [
    "# For validation (do not modify):\n",
    "number_of_missing, df = eliminate_missing_values(df)\n",
    "\n",
    "print('Number of missing values', number_of_missing)\n",
    "print('Uniques of Embarked', df.Embarked.unique())\n",
    "print('Age most common value:', df.Age.value_counts().index[0])\n",
    "print('Shape after handling missing values', df.shape)"
   ]
  },
  {
   "cell_type": "markdown",
   "metadata": {},
   "source": [
    "Expected output:\n",
    "\n",
    "    Number of missing values 865\n",
    "    Uniques of Embarked ['S' 'C' 'Q' 'unknown']\n",
    "    Age most common value: 28.0\n",
    "    Shape after handling missing values (890, 11)"
   ]
  },
  {
   "cell_type": "markdown",
   "metadata": {},
   "source": [
    "# Exercise 4: Outliers\n",
    "You suspect that the `Age` variable has some outliers. Time to take a look at it."
   ]
  },
  {
   "cell_type": "code",
   "execution_count": null,
   "metadata": {},
   "outputs": [],
   "source": [
    "def eliminate_age_outliers(data, minimum, maximum):\n",
    "    \"\"\"\n",
    "    Eliminate the outliers in Age, and update full dataframe, \n",
    "    by dropping the rows with these outliers.\n",
    "    \"\"\"\n",
    "    data = data.copy()\n",
    "\n",
    "    # 1) Create a boolean mask with the values out of range [minimum, maximum]\n",
    "    # Make the minimum and maximum values inclusive. \n",
    "    # Also, count the number of outliers that were found\n",
    "    # Hint: beware of your parenthesis!\n",
    "    # mask = ...\n",
    "    # number_of_outliers = ...\n",
    "    # YOUR CODE HERE (~2 lines)\n",
    "    raise NotImplementedError()\n",
    "    \n",
    "    # 2) Update the dataframe 'data'. Keep only the rows that do not\n",
    "    # have outliers in 'Age'. \n",
    "    # data = ...\n",
    "    # YOUR CODE HERE (~1 line)\n",
    "    raise NotImplementedError()\n",
    "    \n",
    "    assert mask.dtype == 'bool', \"The mask must be of bool type\"\n",
    "    return data, number_of_outliers"
   ]
  },
  {
   "cell_type": "code",
   "execution_count": null,
   "metadata": {
    "scrolled": true
   },
   "outputs": [],
   "source": [
    "# For validation (do not modify):\n",
    "print('Shape before removing outliers:', df.shape)\n",
    "\n",
    "df, num_of_outliers = eliminate_age_outliers(df, 0, 117)\n",
    "\n",
    "print('Number of outliers:', num_of_outliers)\n",
    "print('Final shape of dataset:', df.shape)"
   ]
  },
  {
   "cell_type": "markdown",
   "metadata": {},
   "source": [
    "Expected output:\n",
    "\n",
    "    Shape before removing outliers: (890, 11)\n",
    "    Number of outliers: 2\n",
    "    Final shape of dataset: (888, 11)"
   ]
  },
  {
   "cell_type": "markdown",
   "metadata": {},
   "source": [
    "# Exercise 5: Data Types\n",
    "The most common data types are:\n",
    "- `str` (in dataframe it is seen as `object`), e.g., `female`\n",
    "- `float`, e.g., `13.2`\n",
    "- `int`, e.g., `120` \n",
    "\n",
    "Sometimes you'll need to convert between datatypes. For example, you might have a variable with values `['3.1', '4.6', '???', '3.9']` that you are sure it is numerical. After you take care of that `???`, by any method you wish, you will need to convert to either `float` or `int`. The array does not automatically convert to numerical just because it only has numerical data.\n",
    "\n",
    "Let's convert the feature `Age` data type."
   ]
  },
  {
   "cell_type": "code",
   "execution_count": null,
   "metadata": {},
   "outputs": [],
   "source": [
    "# EXERCISE\n",
    "# Check the Age dtype\n",
    "# dtype = ...\n",
    "# YOUR CODE HERE (~1 line)\n",
    "raise NotImplementedError()\n",
    "\n",
    "print('Current Age dtype:', dtype)"
   ]
  },
  {
   "cell_type": "markdown",
   "metadata": {},
   "source": [
    "Expected output:\n",
    "\n",
    "    Current Age dtype: float64"
   ]
  },
  {
   "cell_type": "code",
   "execution_count": null,
   "metadata": {},
   "outputs": [],
   "source": [
    "# EXERCISE\n",
    "# Convert the feature Age to int. Update the dataframe.\n",
    "# Hint: Use the method `astype()`.\n",
    "# df.Age = ...\n",
    "# YOUR CODE HERE (~1 line)\n",
    "raise NotImplementedError()\n",
    "\n",
    "# For validation (do not modify):\n",
    "print('New Age dtype:', df.Age.dtype)"
   ]
  },
  {
   "cell_type": "markdown",
   "metadata": {},
   "source": [
    "Expected output:\n",
    "\n",
    "    New Age dtype: int64"
   ]
  },
  {
   "cell_type": "markdown",
   "metadata": {},
   "source": [
    "# Final Dataset"
   ]
  },
  {
   "cell_type": "code",
   "execution_count": null,
   "metadata": {},
   "outputs": [],
   "source": [
    "df.head(10)"
   ]
  },
  {
   "cell_type": "markdown",
   "metadata": {},
   "source": [
    "# EXTRA (optional) Exercises: \n",
    "## 1) Our workflow might lead us to one problem. Can you find it out?\n",
    "(hint: replace with mean)\n",
    "\n",
    "## 2) Can you find people from the same family? [advanced!]\n",
    "(hint: use Python's `re`, regular expressions)\n",
    "\n",
    "## 3) Is there any outlier in feature `Fare`? Why?"
   ]
  }
 ],
 "metadata": {
  "kernelspec": {
   "display_name": "Python 3",
   "language": "python",
   "name": "python3"
  },
  "language_info": {
   "codemirror_mode": {
    "name": "ipython",
    "version": 3
   },
   "file_extension": ".py",
   "mimetype": "text/x-python",
   "name": "python",
   "nbconvert_exporter": "python",
   "pygments_lexer": "ipython3",
   "version": "3.6.3"
  }
 },
 "nbformat": 4,
 "nbformat_minor": 2
}
