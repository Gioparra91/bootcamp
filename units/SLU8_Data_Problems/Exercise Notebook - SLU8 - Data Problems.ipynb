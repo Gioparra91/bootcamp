{
 "cells": [
  {
   "cell_type": "markdown",
   "metadata": {},
   "source": [
    "# Exercise Notebook - SLU8 - Data Problems\n",
    "\n",
    "This notebook is associated with this [presentation](https://docs.google.com/presentation/d/1bu6ORtlvKfPI7ZwEA-BOSxpg1pHGvsemFHo0MhoR6ss/edit?usp=sharing). What we cover here:\n",
    "- Common data entry problems\n",
    "- Missing data\n",
    "- Duplicated data\n",
    "- Outlier detection\n",
    "- Dealing with outliers\n",
    "- Nunique\n",
    "- Drop duplicates\n",
    "- Converting dtypes\n",
    "- Data imputation techniques\n",
    "\n",
    "The **main objective** is to arrive at the end of this notebook with our dataset \"cleaned\" of any problems: entry problems, duplicated eliminated, missing values all identified, and outliers handles.\n",
    "\n",
    "-----\n",
    "_By: Hugo Lopes  \n",
    "LDSA - SLU8_"
   ]
  },
  {
   "cell_type": "code",
   "execution_count": 1,
   "metadata": {},
   "outputs": [],
   "source": [
    "import pandas as pd\n",
    "import numpy as np\n",
    "\n",
    "% matplotlib inline\n",
    "from matplotlib import pyplot as plt "
   ]
  },
  {
   "cell_type": "markdown",
   "metadata": {},
   "source": [
    "# Load Data\n",
    "We will use an extraction **and altered** (!) set of the [Titanic Dataset](https://www.kaggle.com/c/titanic)."
   ]
  },
  {
   "cell_type": "code",
   "execution_count": 15,
   "metadata": {},
   "outputs": [
    {
     "name": "stdout",
     "output_type": "stream",
     "text": [
      "Initial Shape: (896, 12)\n"
     ]
    },
    {
     "data": {
      "text/html": [
       "<div>\n",
       "<style scoped>\n",
       "    .dataframe tbody tr th:only-of-type {\n",
       "        vertical-align: middle;\n",
       "    }\n",
       "\n",
       "    .dataframe tbody tr th {\n",
       "        vertical-align: top;\n",
       "    }\n",
       "\n",
       "    .dataframe thead th {\n",
       "        text-align: right;\n",
       "    }\n",
       "</style>\n",
       "<table border=\"1\" class=\"dataframe\">\n",
       "  <thead>\n",
       "    <tr style=\"text-align: right;\">\n",
       "      <th></th>\n",
       "      <th>PassengerId</th>\n",
       "      <th>Survived</th>\n",
       "      <th>Pclass</th>\n",
       "      <th>Name</th>\n",
       "      <th>Sex</th>\n",
       "      <th>Age</th>\n",
       "      <th>SibSp</th>\n",
       "      <th>Parch</th>\n",
       "      <th>Ticket</th>\n",
       "      <th>Fare</th>\n",
       "      <th>Cabin</th>\n",
       "      <th>Embarked</th>\n",
       "    </tr>\n",
       "  </thead>\n",
       "  <tbody>\n",
       "    <tr>\n",
       "      <th>0</th>\n",
       "      <td>1</td>\n",
       "      <td>0</td>\n",
       "      <td>3</td>\n",
       "      <td>Braund, Mr. Owen Harris</td>\n",
       "      <td>male</td>\n",
       "      <td>22.0</td>\n",
       "      <td>1</td>\n",
       "      <td>0</td>\n",
       "      <td>A/5 21171</td>\n",
       "      <td>7.2500</td>\n",
       "      <td>NaN</td>\n",
       "      <td>S</td>\n",
       "    </tr>\n",
       "    <tr>\n",
       "      <th>1</th>\n",
       "      <td>2</td>\n",
       "      <td>1</td>\n",
       "      <td>1</td>\n",
       "      <td>Cumings, Mrs. John Bradley (Florence Briggs Th...</td>\n",
       "      <td>female</td>\n",
       "      <td>38.0</td>\n",
       "      <td>1</td>\n",
       "      <td>0</td>\n",
       "      <td>PC 17599</td>\n",
       "      <td>71.2833</td>\n",
       "      <td>C85</td>\n",
       "      <td>C</td>\n",
       "    </tr>\n",
       "    <tr>\n",
       "      <th>2</th>\n",
       "      <td>3</td>\n",
       "      <td>1</td>\n",
       "      <td>3</td>\n",
       "      <td>Heikkinen, Miss. Laina</td>\n",
       "      <td>female</td>\n",
       "      <td>26.0</td>\n",
       "      <td>0</td>\n",
       "      <td>0</td>\n",
       "      <td>STON/O2. 3101282</td>\n",
       "      <td>7.9250</td>\n",
       "      <td>NaN</td>\n",
       "      <td>S</td>\n",
       "    </tr>\n",
       "    <tr>\n",
       "      <th>3</th>\n",
       "      <td>4</td>\n",
       "      <td>1</td>\n",
       "      <td>1</td>\n",
       "      <td>Futrelle, Mrs. Jacques Heath (Lily May Peel)</td>\n",
       "      <td>female</td>\n",
       "      <td>35.0</td>\n",
       "      <td>1</td>\n",
       "      <td>0</td>\n",
       "      <td>113803</td>\n",
       "      <td>53.1000</td>\n",
       "      <td>C123</td>\n",
       "      <td>S</td>\n",
       "    </tr>\n",
       "    <tr>\n",
       "      <th>4</th>\n",
       "      <td>5</td>\n",
       "      <td>0</td>\n",
       "      <td>3</td>\n",
       "      <td>Allen, Mr. William Henry</td>\n",
       "      <td>male</td>\n",
       "      <td>35.0</td>\n",
       "      <td>0</td>\n",
       "      <td>0</td>\n",
       "      <td>373450</td>\n",
       "      <td>8.0500</td>\n",
       "      <td>NaN</td>\n",
       "      <td>S</td>\n",
       "    </tr>\n",
       "  </tbody>\n",
       "</table>\n",
       "</div>"
      ],
      "text/plain": [
       "   PassengerId  Survived  Pclass  \\\n",
       "0            1         0       3   \n",
       "1            2         1       1   \n",
       "2            3         1       3   \n",
       "3            4         1       1   \n",
       "4            5         0       3   \n",
       "\n",
       "                                                Name     Sex   Age  SibSp  \\\n",
       "0                            Braund, Mr. Owen Harris    male  22.0      1   \n",
       "1  Cumings, Mrs. John Bradley (Florence Briggs Th...  female  38.0      1   \n",
       "2                             Heikkinen, Miss. Laina  female  26.0      0   \n",
       "3       Futrelle, Mrs. Jacques Heath (Lily May Peel)  female  35.0      1   \n",
       "4                           Allen, Mr. William Henry    male  35.0      0   \n",
       "\n",
       "   Parch            Ticket     Fare Cabin Embarked  \n",
       "0      0         A/5 21171   7.2500   NaN        S  \n",
       "1      0          PC 17599  71.2833   C85        C  \n",
       "2      0  STON/O2. 3101282   7.9250   NaN        S  \n",
       "3      0            113803  53.1000  C123        S  \n",
       "4      0            373450   8.0500   NaN        S  "
      ]
     },
     "execution_count": 15,
     "metadata": {},
     "output_type": "execute_result"
    }
   ],
   "source": [
    "df = pd.read_csv('titanic_exercise.csv')\n",
    "print('Initial Shape:', df.shape)\n",
    "df.head()"
   ]
  },
  {
   "cell_type": "markdown",
   "metadata": {},
   "source": [
    "# Exercise 1: Data Entry Problems\n",
    "The feature `Sex` has a problem. Let's solve it."
   ]
  },
  {
   "cell_type": "code",
   "execution_count": 3,
   "metadata": {},
   "outputs": [
    {
     "name": "stdout",
     "output_type": "stream",
     "text": [
      "Unique values: ['male' 'female' 'Squirrel']\n"
     ]
    }
   ],
   "source": [
    "# EXERCISE\n",
    "# Check the unique values of Sex, and assign it to a variable 'uniques' \n",
    "# uniques = ...\n",
    "# YOUR CODE HERE (~1 line)\n",
    "uniques = df.Sex.unique()\n",
    "#raise NotImplementedError()\n",
    "\n",
    "\n",
    "# For validation (do not modify):\n",
    "print('Unique values:', uniques)"
   ]
  },
  {
   "cell_type": "markdown",
   "metadata": {},
   "source": [
    "Expected output:\n",
    "    \n",
    "    Unique values: ['male' 'female' 'Squirrel']"
   ]
  },
  {
   "cell_type": "markdown",
   "metadata": {},
   "source": [
    "Looks like we found a _Squirrel_! This does not make sense!! Let's drop the rows where we can find `Squirrel`. First, let's check how many squirrels..."
   ]
  },
  {
   "cell_type": "code",
   "execution_count": 4,
   "metadata": {},
   "outputs": [
    {
     "name": "stdout",
     "output_type": "stream",
     "text": [
      "Number of Squirrels = 1\n"
     ]
    }
   ],
   "source": [
    "# EXERCISE\n",
    "# Find the rows with Squirrel (create a boolean mask)\n",
    "# mask = ...\n",
    "# YOUR CODE HERE\n",
    "mask = df.Sex == 'Squirrel'\n",
    "#raise NotImplementedError()\n",
    "\n",
    "\n",
    "# For validation (do not modify):\n",
    "print('Number of Squirrels =', mask.sum())"
   ]
  },
  {
   "cell_type": "markdown",
   "metadata": {},
   "source": [
    "Expected output:\n",
    "    \n",
    "    Number of Squirrels = 1"
   ]
  },
  {
   "cell_type": "code",
   "execution_count": 5,
   "metadata": {},
   "outputs": [
    {
     "name": "stdout",
     "output_type": "stream",
     "text": [
      "Shape after dropping: (895, 12)\n"
     ]
    }
   ],
   "source": [
    "# Now drop the rows that have Squirrel (update 'df')\n",
    "# df = ...\n",
    "# YOUR CODE HERE\n",
    "df = df[~mask]\n",
    "#raise NotImplementedError()\n",
    "\n",
    "\n",
    "# For validation (do not modify):\n",
    "print('Shape after dropping:', df.shape)"
   ]
  },
  {
   "cell_type": "markdown",
   "metadata": {},
   "source": [
    "Expected output:\n",
    "    \n",
    "    Shape after dropping: (895, 12)"
   ]
  },
  {
   "cell_type": "markdown",
   "metadata": {},
   "source": [
    "# Exercise 2: Duplicated Data\n",
    "Time to check if we have duplicated observations (rows). "
   ]
  },
  {
   "cell_type": "code",
   "execution_count": 6,
   "metadata": {},
   "outputs": [
    {
     "name": "stdout",
     "output_type": "stream",
     "text": [
      "Number of duplicated lines after drop: 0\n",
      "Shape after drop: (890, 12)\n"
     ]
    }
   ],
   "source": [
    "# Drop the duplicated lines according to the 'PassengerId' subset. \n",
    "# Update the existing 'df' variable.\n",
    "# df = ...\n",
    "# YOUR CODE HERE (~1 line)\n",
    "df = df.drop_duplicates()\n",
    "#raise NotImplementedError()\n",
    "\n",
    "# For validation (do not modify):\n",
    "print('Number of duplicated lines after drop:', df.duplicated().sum())\n",
    "print('Shape after drop:', df.shape)"
   ]
  },
  {
   "cell_type": "markdown",
   "metadata": {},
   "source": [
    "Expected output:\n",
    "\n",
    "    Number of duplicated lines after drop: 0\n",
    "    Shape after drop: (890, 12)"
   ]
  },
  {
   "cell_type": "markdown",
   "metadata": {},
   "source": [
    "# Exercise 3: Missing Values\n",
    "The missing values are the single most complex and common data problems there is. There are several full books about handling missing values! \n",
    "\n",
    "You can think of cases where the presence of missing values is just completely random, or cases where missing values are _missing_ for some reason (e.g., I may not want to tell my income for a loan application because I'm earning very few money, or because I simply don't have income). \n",
    "\n",
    "Since this is a very complex topic we will focus on solving it the easy way (not optimal):\n",
    "- Dropping columns with a high percentage of missing values.\n",
    "- Numerical features: Replacing the missing values by a value.\n",
    "- Categorical features: Replacing the missing values by a new category (e.g. 'unknown')."
   ]
  },
  {
   "cell_type": "code",
   "execution_count": 7,
   "metadata": {},
   "outputs": [],
   "source": [
    "def eliminate_missing_values(data):\n",
    "    \"\"\"\n",
    "    Eliminate the missing values, numpy.nan, of numerical features,\n",
    "    categorical feature. Also, drop one of the feature which has a lot of missing.\n",
    "    \"\"\"\n",
    "    data = data.copy()\n",
    "    \n",
    "    # 1) Analysis\n",
    "    # Count the number of missing values in the full dataset. \n",
    "    # Use pandas '.isnull()'. Return a single 'int' number\n",
    "    # number_of_missing = ...\n",
    "    # YOUR CODE HERE (~1 line)\n",
    "    number_of_missing = data.isnull().sum().sum()\n",
    "    #raise NotImplementedError()\n",
    "    \n",
    "    \n",
    "    # 2) Solving Numerical Features\n",
    "    # Fill the missing values of 'Age' by the median. \n",
    "    # You can use 'fillna'\n",
    "    # df.Age = ...\n",
    "    # YOUR CODE HERE (~1-2 lines)\n",
    "    data.Age = data.Age.fillna(df.Age.median())\n",
    "    #raise NotImplementedError()\n",
    "    \n",
    "    \n",
    "    # 3) Solving Categorical Features\n",
    "    # Replace the missing values in the feature 'Embarked' by 'unknown'\n",
    "    # You can use 'fillna()'\n",
    "    # df.Embarked = ...\n",
    "    # YOUR CODE HERE (~1 line)\n",
    "    data.Embarked = data.Embarked.fillna('unknown')\n",
    "    #raise NotImplementedError()\n",
    "    \n",
    "    \n",
    "    # 4) Drop the feature 'Cabin' which has a lot of missing values\n",
    "    # You can use the method 'drop(...)'.\n",
    "    # df = ...\n",
    "    # YOUR CODE HERE (~1 line)\n",
    "    data = data.drop('Cabin', axis=1)\n",
    "    #raise NotImplementedError()\n",
    "    \n",
    "    return number_of_missing, data"
   ]
  },
  {
   "cell_type": "code",
   "execution_count": 8,
   "metadata": {
    "scrolled": true
   },
   "outputs": [
    {
     "name": "stdout",
     "output_type": "stream",
     "text": [
      "Number of missing values 865\n",
      "Uniques of Embarked ['S' 'C' 'Q' 'unknown']\n",
      "Age most common value: 28.0\n",
      "Shape after handling missing values (890, 11)\n",
      "Current number of missing values: 0\n"
     ]
    }
   ],
   "source": [
    "# For validation (do not modify):\n",
    "number_of_missing, df = eliminate_missing_values(df)\n",
    "\n",
    "print('Number of missing values', number_of_missing)\n",
    "print('Uniques of Embarked', df.Embarked.unique())\n",
    "print('Age most common value:', df.Age.value_counts().index[0])\n",
    "print('Shape after handling missing values', df.shape)\n",
    "print('Current number of missing values:', df.isnull().sum().sum())"
   ]
  },
  {
   "cell_type": "markdown",
   "metadata": {},
   "source": [
    "Expected output:\n",
    "\n",
    "    Number of missing values 865\n",
    "    Uniques of Embarked ['S' 'C' 'Q' 'unknown']\n",
    "    Age most common value: 28.0\n",
    "    Shape after handling missing values (890, 11)\n",
    "    Current number of missing values: 0"
   ]
  },
  {
   "cell_type": "markdown",
   "metadata": {},
   "source": [
    "# Exercise 4: Outliers\n",
    "It is heard that the `Age` variable has some outliers. Time to take a look at it."
   ]
  },
  {
   "cell_type": "code",
   "execution_count": 9,
   "metadata": {},
   "outputs": [],
   "source": [
    "def eliminate_age_outliers(data, minimum, maximum):\n",
    "    \"\"\"\n",
    "    Eliminate the outliers in Age, and update full dataframe, \n",
    "    by dropping the rows with these outliers.\n",
    "    \"\"\"\n",
    "    data = data.copy()\n",
    "\n",
    "    # 1) Create a boolean mask with the values out of range [minimum, maximum]\n",
    "    # Make the minimum and maximum values inclusive. \n",
    "    # Also, count the number of outliers that were found\n",
    "    # mask = ...\n",
    "    # number_of_outliers = ...\n",
    "    # YOUR CODE HERE (~2 lines)\n",
    "    mask = (data['Age'] <= 117) & (data['Age'] >= 0)\n",
    "    number_of_outliers = (~mask).sum()\n",
    "    #raise NotImplementedError()\n",
    "    \n",
    "    # 2) Update the dataframe 'data'. Keep only the rows that do not\n",
    "    # have outliers in 'Age'. \n",
    "    # data = ...\n",
    "    # YOUR CODE HERE (~1 line)\n",
    "    data = data[mask]\n",
    "    #raise NotImplementedError()\n",
    "    \n",
    "    assert mask.dtype == 'bool', \"The mask must be of bool type\"\n",
    "    return data, number_of_outliers"
   ]
  },
  {
   "cell_type": "code",
   "execution_count": 10,
   "metadata": {
    "scrolled": true
   },
   "outputs": [
    {
     "name": "stdout",
     "output_type": "stream",
     "text": [
      "Shape before removing outliers: (890, 11)\n",
      "Number of outliers: 2\n",
      "Final shape of dataset: (888, 11)\n"
     ]
    }
   ],
   "source": [
    "# For validation (do not modify):\n",
    "print('Shape before removing outliers:', df.shape)\n",
    "\n",
    "df, num_of_outliers = eliminate_age_outliers(df, 0, 117)\n",
    "\n",
    "print('Number of outliers:', num_of_outliers)\n",
    "print('Final shape of dataset:', df.shape)"
   ]
  },
  {
   "cell_type": "markdown",
   "metadata": {},
   "source": [
    "Expected output:\n",
    "\n",
    "    Shape before removing outliers: (890, 11)\n",
    "    Number of outliers: 2\n",
    "    Final shape of dataset: (888, 11)"
   ]
  },
  {
   "cell_type": "markdown",
   "metadata": {},
   "source": [
    "# Exercise 5: Data Types\n",
    "The most common data types are:\n",
    "- `str` (in dataframe it is seen as `object`), e.g., `female`\n",
    "- `float`, e.g., `13.2`\n",
    "- `int`, e.g., `120` \n",
    "\n",
    "Sometimes you'll need to convert between datatypes. For example, you might have a variable with values `['3.1', '4.6', '???', '3.9']` that you are sure it is numerical. After you take care of that `???`, by any method you wish, you will need to convert to either `float` or `int`. The array does not automatically convert to numerical just because it only has numerical data.\n",
    "\n",
    "For a more advanced information on dtypes, please refer to [numpy](https://docs.scipy.org/doc/numpy-1.14.0/reference/arrays.dtypes.html) which has its own dtypes (that you will interact a lot when using pandas).\n",
    "\n",
    "Let's convert the feature `Age` from `float` to `int`."
   ]
  },
  {
   "cell_type": "code",
   "execution_count": 11,
   "metadata": {},
   "outputs": [
    {
     "data": {
      "text/plain": [
       "PassengerId      int64\n",
       "Survived         int64\n",
       "Pclass           int64\n",
       "Name            object\n",
       "Sex             object\n",
       "Age            float64\n",
       "SibSp            int64\n",
       "Parch            int64\n",
       "Ticket          object\n",
       "Fare           float64\n",
       "Embarked        object\n",
       "dtype: object"
      ]
     },
     "execution_count": 11,
     "metadata": {},
     "output_type": "execute_result"
    }
   ],
   "source": [
    "# RUN this cell to check the dtypes of all features. Check that Age is NOT an int.\n",
    "df.dtypes"
   ]
  },
  {
   "cell_type": "code",
   "execution_count": 12,
   "metadata": {},
   "outputs": [
    {
     "name": "stdout",
     "output_type": "stream",
     "text": [
      "New Age dtype: int64\n"
     ]
    }
   ],
   "source": [
    "# EXERCISE\n",
    "# Convert the feature Age from float to int. Update the dataframe.\n",
    "# Use the method `astype()`.\n",
    "# df.Age = ...\n",
    "# YOUR CODE HERE (~1 line)\n",
    "df.Age = df.Age.astype(int)\n",
    "#raise NotImplementedError()\n",
    "\n",
    "# For validation (do not modify):\n",
    "print('New Age dtype:', df.Age.dtype)"
   ]
  },
  {
   "cell_type": "markdown",
   "metadata": {},
   "source": [
    "Expected output:\n",
    "\n",
    "    New Age dtype: int64"
   ]
  },
  {
   "cell_type": "markdown",
   "metadata": {},
   "source": [
    "# Final Dataset"
   ]
  },
  {
   "cell_type": "code",
   "execution_count": 13,
   "metadata": {},
   "outputs": [
    {
     "data": {
      "text/html": [
       "<div>\n",
       "<style scoped>\n",
       "    .dataframe tbody tr th:only-of-type {\n",
       "        vertical-align: middle;\n",
       "    }\n",
       "\n",
       "    .dataframe tbody tr th {\n",
       "        vertical-align: top;\n",
       "    }\n",
       "\n",
       "    .dataframe thead th {\n",
       "        text-align: right;\n",
       "    }\n",
       "</style>\n",
       "<table border=\"1\" class=\"dataframe\">\n",
       "  <thead>\n",
       "    <tr style=\"text-align: right;\">\n",
       "      <th></th>\n",
       "      <th>PassengerId</th>\n",
       "      <th>Survived</th>\n",
       "      <th>Pclass</th>\n",
       "      <th>Name</th>\n",
       "      <th>Sex</th>\n",
       "      <th>Age</th>\n",
       "      <th>SibSp</th>\n",
       "      <th>Parch</th>\n",
       "      <th>Ticket</th>\n",
       "      <th>Fare</th>\n",
       "      <th>Embarked</th>\n",
       "    </tr>\n",
       "  </thead>\n",
       "  <tbody>\n",
       "    <tr>\n",
       "      <th>0</th>\n",
       "      <td>1</td>\n",
       "      <td>0</td>\n",
       "      <td>3</td>\n",
       "      <td>Braund, Mr. Owen Harris</td>\n",
       "      <td>male</td>\n",
       "      <td>22</td>\n",
       "      <td>1</td>\n",
       "      <td>0</td>\n",
       "      <td>A/5 21171</td>\n",
       "      <td>7.2500</td>\n",
       "      <td>S</td>\n",
       "    </tr>\n",
       "    <tr>\n",
       "      <th>1</th>\n",
       "      <td>2</td>\n",
       "      <td>1</td>\n",
       "      <td>1</td>\n",
       "      <td>Cumings, Mrs. John Bradley (Florence Briggs Th...</td>\n",
       "      <td>female</td>\n",
       "      <td>38</td>\n",
       "      <td>1</td>\n",
       "      <td>0</td>\n",
       "      <td>PC 17599</td>\n",
       "      <td>71.2833</td>\n",
       "      <td>C</td>\n",
       "    </tr>\n",
       "    <tr>\n",
       "      <th>2</th>\n",
       "      <td>3</td>\n",
       "      <td>1</td>\n",
       "      <td>3</td>\n",
       "      <td>Heikkinen, Miss. Laina</td>\n",
       "      <td>female</td>\n",
       "      <td>26</td>\n",
       "      <td>0</td>\n",
       "      <td>0</td>\n",
       "      <td>STON/O2. 3101282</td>\n",
       "      <td>7.9250</td>\n",
       "      <td>S</td>\n",
       "    </tr>\n",
       "    <tr>\n",
       "      <th>3</th>\n",
       "      <td>4</td>\n",
       "      <td>1</td>\n",
       "      <td>1</td>\n",
       "      <td>Futrelle, Mrs. Jacques Heath (Lily May Peel)</td>\n",
       "      <td>female</td>\n",
       "      <td>35</td>\n",
       "      <td>1</td>\n",
       "      <td>0</td>\n",
       "      <td>113803</td>\n",
       "      <td>53.1000</td>\n",
       "      <td>S</td>\n",
       "    </tr>\n",
       "    <tr>\n",
       "      <th>4</th>\n",
       "      <td>5</td>\n",
       "      <td>0</td>\n",
       "      <td>3</td>\n",
       "      <td>Allen, Mr. William Henry</td>\n",
       "      <td>male</td>\n",
       "      <td>35</td>\n",
       "      <td>0</td>\n",
       "      <td>0</td>\n",
       "      <td>373450</td>\n",
       "      <td>8.0500</td>\n",
       "      <td>S</td>\n",
       "    </tr>\n",
       "    <tr>\n",
       "      <th>5</th>\n",
       "      <td>6</td>\n",
       "      <td>0</td>\n",
       "      <td>3</td>\n",
       "      <td>Moran, Mr. James</td>\n",
       "      <td>male</td>\n",
       "      <td>28</td>\n",
       "      <td>0</td>\n",
       "      <td>0</td>\n",
       "      <td>330877</td>\n",
       "      <td>8.4583</td>\n",
       "      <td>Q</td>\n",
       "    </tr>\n",
       "    <tr>\n",
       "      <th>6</th>\n",
       "      <td>7</td>\n",
       "      <td>0</td>\n",
       "      <td>1</td>\n",
       "      <td>McCarthy, Mr. Timothy J</td>\n",
       "      <td>male</td>\n",
       "      <td>54</td>\n",
       "      <td>0</td>\n",
       "      <td>0</td>\n",
       "      <td>17463</td>\n",
       "      <td>51.8625</td>\n",
       "      <td>S</td>\n",
       "    </tr>\n",
       "    <tr>\n",
       "      <th>7</th>\n",
       "      <td>8</td>\n",
       "      <td>0</td>\n",
       "      <td>3</td>\n",
       "      <td>Palsson, Master. Gosta Leonard</td>\n",
       "      <td>male</td>\n",
       "      <td>2</td>\n",
       "      <td>3</td>\n",
       "      <td>1</td>\n",
       "      <td>349909</td>\n",
       "      <td>21.0750</td>\n",
       "      <td>S</td>\n",
       "    </tr>\n",
       "    <tr>\n",
       "      <th>8</th>\n",
       "      <td>9</td>\n",
       "      <td>1</td>\n",
       "      <td>3</td>\n",
       "      <td>Johnson, Mrs. Oscar W (Elisabeth Vilhelmina Berg)</td>\n",
       "      <td>female</td>\n",
       "      <td>27</td>\n",
       "      <td>0</td>\n",
       "      <td>2</td>\n",
       "      <td>347742</td>\n",
       "      <td>11.1333</td>\n",
       "      <td>S</td>\n",
       "    </tr>\n",
       "    <tr>\n",
       "      <th>9</th>\n",
       "      <td>10</td>\n",
       "      <td>1</td>\n",
       "      <td>2</td>\n",
       "      <td>Nasser, Mrs. Nicholas (Adele Achem)</td>\n",
       "      <td>female</td>\n",
       "      <td>14</td>\n",
       "      <td>1</td>\n",
       "      <td>0</td>\n",
       "      <td>237736</td>\n",
       "      <td>30.0708</td>\n",
       "      <td>C</td>\n",
       "    </tr>\n",
       "  </tbody>\n",
       "</table>\n",
       "</div>"
      ],
      "text/plain": [
       "   PassengerId  Survived  Pclass  \\\n",
       "0            1         0       3   \n",
       "1            2         1       1   \n",
       "2            3         1       3   \n",
       "3            4         1       1   \n",
       "4            5         0       3   \n",
       "5            6         0       3   \n",
       "6            7         0       1   \n",
       "7            8         0       3   \n",
       "8            9         1       3   \n",
       "9           10         1       2   \n",
       "\n",
       "                                                Name     Sex  Age  SibSp  \\\n",
       "0                            Braund, Mr. Owen Harris    male   22      1   \n",
       "1  Cumings, Mrs. John Bradley (Florence Briggs Th...  female   38      1   \n",
       "2                             Heikkinen, Miss. Laina  female   26      0   \n",
       "3       Futrelle, Mrs. Jacques Heath (Lily May Peel)  female   35      1   \n",
       "4                           Allen, Mr. William Henry    male   35      0   \n",
       "5                                   Moran, Mr. James    male   28      0   \n",
       "6                            McCarthy, Mr. Timothy J    male   54      0   \n",
       "7                     Palsson, Master. Gosta Leonard    male    2      3   \n",
       "8  Johnson, Mrs. Oscar W (Elisabeth Vilhelmina Berg)  female   27      0   \n",
       "9                Nasser, Mrs. Nicholas (Adele Achem)  female   14      1   \n",
       "\n",
       "   Parch            Ticket     Fare Embarked  \n",
       "0      0         A/5 21171   7.2500        S  \n",
       "1      0          PC 17599  71.2833        C  \n",
       "2      0  STON/O2. 3101282   7.9250        S  \n",
       "3      0            113803  53.1000        S  \n",
       "4      0            373450   8.0500        S  \n",
       "5      0            330877   8.4583        Q  \n",
       "6      0             17463  51.8625        S  \n",
       "7      1            349909  21.0750        S  \n",
       "8      2            347742  11.1333        S  \n",
       "9      0            237736  30.0708        C  "
      ]
     },
     "execution_count": 13,
     "metadata": {},
     "output_type": "execute_result"
    }
   ],
   "source": [
    "df.head(10)"
   ]
  },
  {
   "cell_type": "markdown",
   "metadata": {},
   "source": [
    "# EXTRA Exercises: \n",
    "## 1) Our workflow might lead us to one problem. Can you find it out?\n",
    "(hint: replace with mean)\n",
    "\n",
    "## 2) Can you find people from the same family? [advanced!]\n",
    "(hint: use Python's `re`, regular expressions)\n",
    "\n",
    "## 3) Is there any outlier in feature `Fare`? Why?"
   ]
  }
 ],
 "metadata": {
  "kernelspec": {
   "display_name": "Python 3",
   "language": "python",
   "name": "python3"
  },
  "language_info": {
   "codemirror_mode": {
    "name": "ipython",
    "version": 3
   },
   "file_extension": ".py",
   "mimetype": "text/x-python",
   "name": "python",
   "nbconvert_exporter": "python",
   "pygments_lexer": "ipython3",
   "version": "3.6.3"
  }
 },
 "nbformat": 4,
 "nbformat_minor": 2
}
