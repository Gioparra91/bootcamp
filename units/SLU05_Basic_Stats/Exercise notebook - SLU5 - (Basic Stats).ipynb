{
 "cells": [
  {
   "cell_type": "markdown",
   "metadata": {},
   "source": [
    "# Summary Statistics - Exercises\n",
    "In these exercises we'll use a real life medical dataset to learn how to obtain basic statistics from the data. This dataset comes from [Gluegrant](https://www.gluegrant.org/), an American project that aims to find a which genes are more important for the recovery of severely injured patients! \n",
    "\n",
    "\n",
    "## Objectives\n",
    "\n",
    "In this exercise the objective is for you to learn how to use Pandas functions to obtain simple statistics of Datasets.\n",
    "\n",
    "## Dataset information\n",
    "\n",
    "The dataset is a medical dataset with 184 patients, distributed into 2 test groups where each group divided in 2, patients and control.\n",
    "The dataset is composed of clinical values:\n",
    "* Patient.id\n",
    "* Age\n",
    "* Sex\n",
    "* Group (to what group they belong)\n",
    "* Results (outcome of the patient)\n",
    "\n",
    "and of the gene expression (higher = more expressed):\n",
    "* Gene1: [MMP9](https://www.ncbi.nlm.nih.gov/gene/4318)\n",
    "* Gene2: [S100A12](https://www.ncbi.nlm.nih.gov/gene/6283)\n",
    "* Gene3: [MCEMP1](https://www.ncbi.nlm.nih.gov/gene/199675)\n",
    "* Gene4: [ACSL1](https://www.ncbi.nlm.nih.gov/gene/2180)\n",
    "* Gene5: [SLC7A2](https://www.ncbi.nlm.nih.gov/gene/6542)\n",
    "* Gene6: [CDC14B](https://www.ncbi.nlm.nih.gov/gene/8555)\n"
   ]
  },
  {
   "cell_type": "code",
   "execution_count": null,
   "metadata": {
    "deletable": false,
    "editable": false,
    "nbgrader": {
     "checksum": "9e59e1c6ff9f687a252584bed1dad155",
     "grade": false,
     "grade_id": "cell-c27b6f9ff20b2861",
     "locked": true,
     "schema_version": 1,
     "solution": false
    }
   },
   "outputs": [],
   "source": [
    "import pandas as pd\n",
    "import numpy as np\n",
    "import math "
   ]
  },
  {
   "cell_type": "code",
   "execution_count": null,
   "metadata": {
    "deletable": false,
    "editable": false,
    "nbgrader": {
     "checksum": "11eab050f23e5923ffb440b4a292bbff",
     "grade": false,
     "grade_id": "cell-3af7e719747c452c",
     "locked": true,
     "schema_version": 1,
     "solution": false
    }
   },
   "outputs": [],
   "source": [
    "patient_data = pd.read_csv('data/everyone.csv')\n",
    "\n",
    "patient_data.head()"
   ]
  },
  {
   "cell_type": "markdown",
   "metadata": {
    "deletable": false,
    "editable": false,
    "nbgrader": {
     "checksum": "5135003bd52ea5ed873f8dfe23583e1a",
     "grade": false,
     "grade_id": "cell-01788a455e6c4be6",
     "locked": true,
     "schema_version": 1,
     "solution": false
    }
   },
   "source": [
    "# Exercise 1 - Lets get a quick look at the groups\n",
    "\n",
    "Ok, first lets get a quick look at who is in each of the groups. In medical studies it's important that the control and patient groups aren't too different from each other, so that we can draw relevant results.\n",
    "\n",
    "### Separate the patients and control into 2 dataframes\n",
    "Since we are going to perform multiple statistics on the patient and control groups, we should create a variable for each one of the groups, so that we mantain our code readable!\n",
    "\n",
    "_Remember:_ If you want to subset the comand is: `DataFrame[DataFrame.column == \"Value\"]`"
   ]
  },
  {
   "cell_type": "code",
   "execution_count": null,
   "metadata": {
    "deletable": false,
    "nbgrader": {
     "checksum": "58b35b2d1b4ad5e008a59b33bf5e7827",
     "grade": false,
     "grade_id": "cell-493d5be6e9da4b41",
     "locked": false,
     "schema_version": 1,
     "solution": true
    }
   },
   "outputs": [],
   "source": [
    "# get one dataframe for each group - Patient and Control \n",
    "\n",
    "# patients = ... \n",
    "# control = ...\n",
    "\n",
    "# YOUR CODE HERE\n",
    "raise NotImplementedError()\n"
   ]
  },
  {
   "cell_type": "code",
   "execution_count": null,
   "metadata": {
    "deletable": false,
    "editable": false,
    "nbgrader": {
     "checksum": "f88cca81819d47a823cece2f38453e8f",
     "grade": true,
     "grade_id": "cell-681bb7a461c18fd9",
     "locked": true,
     "points": 0.5,
     "schema_version": 1,
     "solution": false
    }
   },
   "outputs": [],
   "source": [
    "assert(patients.Group.unique()[0] == 'Patient')\n",
    "assert(control.Group.unique()[0] == 'Control')"
   ]
  },
  {
   "cell_type": "markdown",
   "metadata": {},
   "source": [
    "### Find out the Age means for each of the groups\n",
    "_Remember_: To find the mean of a dataframe column, just use Name_of_dataframe.column.mean()"
   ]
  },
  {
   "cell_type": "code",
   "execution_count": null,
   "metadata": {
    "deletable": false,
    "nbgrader": {
     "checksum": "6a745072ee17a5c0109b68bfadeefca4",
     "grade": false,
     "grade_id": "cell-3a582c9aad8a1b5e",
     "locked": false,
     "schema_version": 1,
     "solution": true
    }
   },
   "outputs": [],
   "source": [
    "# patient_mean =  # Calculate the mean of the patients\n",
    "# control_mean =  # Calculate the mean of the controls\n",
    "\n",
    "# YOUR CODE HERE\n",
    "raise NotImplementedError()\n"
   ]
  },
  {
   "cell_type": "code",
   "execution_count": null,
   "metadata": {
    "deletable": false,
    "editable": false,
    "nbgrader": {
     "checksum": "496f6920ef81435b11cabe8309cebb76",
     "grade": false,
     "grade_id": "cell-c6130272361b160e",
     "locked": true,
     "schema_version": 1,
     "solution": false
    }
   },
   "outputs": [],
   "source": [
    "print('The patient mean age is: {} and the control mean age is: {}'.format(patient_mean, control_mean))"
   ]
  },
  {
   "cell_type": "markdown",
   "metadata": {},
   "source": [
    "Expected output:\n",
    "    \n",
    "    The patient mean age is: 33.64556962025316 and the control mean age is: 29.884615384615383 "
   ]
  },
  {
   "cell_type": "code",
   "execution_count": null,
   "metadata": {
    "deletable": false,
    "editable": false,
    "nbgrader": {
     "checksum": "d589f4b6504e6c20d473bb1aced0d6e4",
     "grade": true,
     "grade_id": "cell-bf104255ad7aaf0c",
     "locked": true,
     "points": 1,
     "schema_version": 1,
     "solution": false
    }
   },
   "outputs": [],
   "source": [
    "assert(math.isclose(patient_mean, 33.64556962025316, abs_tol=0.01))"
   ]
  },
  {
   "cell_type": "markdown",
   "metadata": {},
   "source": [
    "### Find the Median Age of each group\n",
    "As seen on the presentation, the mean can affected by outliers on the data, lets check that out with the median.\n"
   ]
  },
  {
   "cell_type": "code",
   "execution_count": null,
   "metadata": {
    "deletable": false,
    "nbgrader": {
     "checksum": "58aa03468744bd4a6e5a3c85df8501b8",
     "grade": false,
     "grade_id": "cell-a7f823c7479df01a",
     "locked": false,
     "schema_version": 1,
     "solution": true
    }
   },
   "outputs": [],
   "source": [
    "\n",
    "# patient_median = # Calculate the median age of the patients\n",
    "# control_median =  # Calculate the median age of the controls\n",
    "\n",
    "# YOUR CODE HERE\n",
    "raise NotImplementedError()"
   ]
  },
  {
   "cell_type": "code",
   "execution_count": null,
   "metadata": {
    "deletable": false,
    "editable": false,
    "nbgrader": {
     "checksum": "47fccda288ddc9a0d15c7f71bd5d1127",
     "grade": false,
     "grade_id": "cell-18a02be6c4d79780",
     "locked": true,
     "schema_version": 1,
     "solution": false
    }
   },
   "outputs": [],
   "source": [
    "print('The patient median age is: {} and the control median age is: {}'.format(patient_median,control_median))"
   ]
  },
  {
   "cell_type": "markdown",
   "metadata": {},
   "source": [
    "Expected output:\n",
    "    \n",
    "    The patient median age is: 33.0 and the control median age is: 33.0 \t\n"
   ]
  },
  {
   "cell_type": "code",
   "execution_count": null,
   "metadata": {
    "deletable": false,
    "editable": false,
    "nbgrader": {
     "checksum": "52874fd49bf33d5699c1c6b24d0860ef",
     "grade": true,
     "grade_id": "cell-e4f5228c7dbf23ad",
     "locked": true,
     "points": 1,
     "schema_version": 1,
     "solution": false
    }
   },
   "outputs": [],
   "source": [
    "assert math.isclose(patient_median, 33)"
   ]
  },
  {
   "cell_type": "markdown",
   "metadata": {},
   "source": [
    "### Find the Standard deviation Age of each group\n",
    "Let's see if there is a large deviation from the mean in each of the groups."
   ]
  },
  {
   "cell_type": "code",
   "execution_count": null,
   "metadata": {
    "deletable": false,
    "nbgrader": {
     "checksum": "64be698004239160c8c6c27cb407421c",
     "grade": false,
     "grade_id": "cell-873fce2f25417734",
     "locked": false,
     "schema_version": 1,
     "solution": true
    }
   },
   "outputs": [],
   "source": [
    "\n",
    "# patient_std = # Standard Deviation age of the patients\n",
    "# control_std = # Standard Deviation age of the controls\n",
    "\n",
    "# YOUR CODE HERE\n",
    "raise NotImplementedError()"
   ]
  },
  {
   "cell_type": "code",
   "execution_count": null,
   "metadata": {
    "deletable": false,
    "editable": false,
    "nbgrader": {
     "checksum": "a06b9dd2f24ba9d076acec9a1074e676",
     "grade": false,
     "grade_id": "cell-6f8189ef61f972e7",
     "locked": true,
     "schema_version": 1,
     "solution": false
    }
   },
   "outputs": [],
   "source": [
    "print('The patient std is: {} and the control std is: {}'.format(patient_std,control_std))"
   ]
  },
  {
   "cell_type": "markdown",
   "metadata": {},
   "source": [
    "Expected output: \n",
    "\n",
    "    The patient std is: 11.16698725935228 and the control std is: 10.19539866048179 \t"
   ]
  },
  {
   "cell_type": "code",
   "execution_count": null,
   "metadata": {
    "deletable": false,
    "editable": false,
    "nbgrader": {
     "checksum": "8e4a97ab24889a63903e0009803e9606",
     "grade": true,
     "grade_id": "cell-d763ff473ff6ff99",
     "locked": true,
     "points": 1,
     "schema_version": 1,
     "solution": false
    }
   },
   "outputs": [],
   "source": [
    "assert(math.isclose(patient_std, 11.1669872593522, abs_tol=0.01))\n",
    "assert(math.isclose(control_std, 10.1953986604817, abs_tol=0.01))"
   ]
  },
  {
   "cell_type": "markdown",
   "metadata": {},
   "source": [
    "### Find the quantiles of the Age\n",
    "Let's use the quantiles to obtain the dispersion of the groups. Get the 0, 0.25, 0.5, 0.75 and 1 quantiles.\n"
   ]
  },
  {
   "cell_type": "code",
   "execution_count": null,
   "metadata": {
    "deletable": false,
    "nbgrader": {
     "checksum": "f22e74e8cefbffe65512b18880db1fa7",
     "grade": false,
     "grade_id": "cell-2449304f452c767a",
     "locked": false,
     "schema_version": 1,
     "solution": true
    }
   },
   "outputs": [],
   "source": [
    "# patient_quantiles = # Patient quantiles of the Age\n",
    "# control_quantiles = # Control quantiles of the Age\n",
    "\n",
    "# YOUR CODE HERE\n",
    "raise NotImplementedError()"
   ]
  },
  {
   "cell_type": "code",
   "execution_count": null,
   "metadata": {
    "deletable": false,
    "editable": false,
    "nbgrader": {
     "checksum": "4d69acb285f581a8e48249c68a43de37",
     "grade": false,
     "grade_id": "cell-74e9c3a4b4203647",
     "locked": true,
     "schema_version": 1,
     "solution": false
    }
   },
   "outputs": [],
   "source": [
    "print(patient_quantiles)\n",
    "print(control_quantiles)"
   ]
  },
  {
   "cell_type": "markdown",
   "metadata": {
    "deletable": false,
    "editable": false,
    "nbgrader": {
     "checksum": "dc82cce950233e61a87b5d07d450d846",
     "grade": false,
     "grade_id": "cell-371f3f9b6ccdb2aa",
     "locked": true,
     "schema_version": 1,
     "solution": false
    },
    "scrolled": false
   },
   "source": [
    "Expected output\n",
    "\n",
    "    0.00    16.0\n",
    "    0.25    24.0\n",
    "    0.50    33.0\n",
    "    0.75    43.0\n",
    "    1.00    55.0\n",
    "    Name: Age, dtype: float64\n",
    "    0.00    17.0\n",
    "    0.25    21.5\n",
    "    0.50    28.0\n",
    "    0.75    34.0\n",
    "    1.00    54.0\n",
    "    Name: Age, dtype: float64"
   ]
  },
  {
   "cell_type": "code",
   "execution_count": null,
   "metadata": {
    "deletable": false,
    "editable": false,
    "nbgrader": {
     "checksum": "3fe01c77cfd75fb83f3b9422408de529",
     "grade": true,
     "grade_id": "cell-01d1b4a2cc6e9d83",
     "locked": true,
     "points": 1,
     "schema_version": 1,
     "solution": false
    }
   },
   "outputs": [],
   "source": [
    "assert (patient_quantiles.sum()==171)\n",
    "assert (control_quantiles.sum()==154.5)"
   ]
  },
  {
   "cell_type": "markdown",
   "metadata": {},
   "source": [
    "### Find out how many patients are male and how many are female\n",
    "\n",
    "Next, let's try to find out the number or each of the sex and the prercentage of males in each of the groups.\n",
    "\n",
    "_Remember:_ To get a frequency table you can use `pd.crosstab()`\n",
    "\n",
    "- Rows: Sex\n",
    "- Columns: Group "
   ]
  },
  {
   "cell_type": "code",
   "execution_count": null,
   "metadata": {
    "deletable": false,
    "nbgrader": {
     "checksum": "b4776d6d08d2eccc6589bef86f378839",
     "grade": false,
     "grade_id": "cell-9e9944fd7252c53b",
     "locked": false,
     "schema_version": 1,
     "solution": true
    }
   },
   "outputs": [],
   "source": [
    "# crosstab = # get a frequency table for Sex and Group \n",
    "\n",
    "# YOUR CODE HERE\n",
    "raise NotImplementedError()"
   ]
  },
  {
   "cell_type": "code",
   "execution_count": null,
   "metadata": {
    "deletable": false,
    "editable": false,
    "nbgrader": {
     "checksum": "e8cf7c7129851d23bf245f5dfcff291e",
     "grade": false,
     "grade_id": "cell-c43011a297815347",
     "locked": true,
     "schema_version": 1,
     "solution": false
    }
   },
   "outputs": [],
   "source": [
    "crosstab"
   ]
  },
  {
   "cell_type": "code",
   "execution_count": null,
   "metadata": {
    "deletable": false,
    "editable": false,
    "nbgrader": {
     "checksum": "3e48b3c9d0705dc73648188f4d47357d",
     "grade": true,
     "grade_id": "cell-7f879873e0ae96c8",
     "locked": true,
     "points": 1,
     "schema_version": 1,
     "solution": false
    }
   },
   "outputs": [],
   "source": [
    "assert (crosstab.iloc[1,0]==17)\n",
    "assert (crosstab.iloc[1,1]==98)\n",
    "assert (crosstab.iloc[0,0]==9)\n",
    "assert (crosstab.iloc[0,1]==60)"
   ]
  },
  {
   "cell_type": "markdown",
   "metadata": {},
   "source": [
    "# Exercise 2 \n",
    "\n",
    "The objective here is for you to try to find genes that are different from the patient group and control group using the tools that you learned on exercise 1.\n",
    "\n",
    "### Gene 1"
   ]
  },
  {
   "cell_type": "code",
   "execution_count": null,
   "metadata": {
    "deletable": false,
    "nbgrader": {
     "checksum": "5ede2ea2a9bbfcc14576fcd3e8d42d41",
     "grade": false,
     "grade_id": "cell-43c28691a69a27f2",
     "locked": false,
     "schema_version": 1,
     "solution": true
    }
   },
   "outputs": [],
   "source": [
    "#gene1_patients = # get the series of patients for Gene1 \n",
    "#gene1_control = # get the series of control for Gene1 \n",
    "\n",
    "# Mean\n",
    "\n",
    "# mean_gene1_patients = # Gene1 mean for patients\n",
    "# mean_gene1_control = # Gene1 mean for control\n",
    "\n",
    "# Median\n",
    "\n",
    "# median_gene1_patients = # Gene1 median for patients\n",
    "# median_gene1_control = # Gene1 median for control\n",
    "\n",
    "# Std\n",
    "\n",
    "# std_gene1_patients = # Gene1 std for patents\n",
    "# std_gene1_control = # Gene1 std for control\n",
    "\n",
    "\n",
    "# YOUR CODE HERE\n",
    "raise NotImplementedError()"
   ]
  },
  {
   "cell_type": "code",
   "execution_count": null,
   "metadata": {},
   "outputs": [],
   "source": [
    "print(\"Patients: Mean =\", mean_gene1_patients, \"Median =\", median_gene1_patients, \"Std =\", std_gene1_patients, \"\\t\")\n",
    "print(\"Control:  Mean =\", mean_gene1_control, \"Median =\", median_gene1_control, \"Std =\", std_gene1_control, \"\\t\")\n",
    "\n"
   ]
  },
  {
   "cell_type": "markdown",
   "metadata": {},
   "source": [
    "Expected outcome:\n",
    "    \n",
    "    Patients: Mean = 13676.395265822784 Median = 13555.230500000001 Std = 3092.69814423062 \t\n",
    "    Control:  Mean = 1156.0739230769232 Median = 947.1095 Std = 854.9755207222215 \t"
   ]
  },
  {
   "cell_type": "code",
   "execution_count": null,
   "metadata": {
    "deletable": false,
    "editable": false,
    "nbgrader": {
     "checksum": "1a9cc35c89e276469bd02dbae2803dcc",
     "grade": true,
     "grade_id": "cell-96b03936bd41b5a6",
     "locked": true,
     "points": 1,
     "schema_version": 1,
     "solution": false
    }
   },
   "outputs": [],
   "source": [
    "assert math.isclose(mean_gene1_patients, 13676.39526582278, abs_tol=0.01)\n",
    "assert math.isclose(mean_gene1_control, 1156.073923076923, abs_tol=0.01)\n",
    "assert math.isclose(median_gene1_patients, 13555.23050000000, abs_tol=0.01)\n",
    "assert math.isclose(median_gene1_control, 947.1095, abs_tol=0.01)"
   ]
  },
  {
   "cell_type": "markdown",
   "metadata": {},
   "source": [
    "### Gene 2"
   ]
  },
  {
   "cell_type": "code",
   "execution_count": null,
   "metadata": {
    "deletable": false,
    "nbgrader": {
     "checksum": "b8b0d4b6875cfcc4e16d80e3c7fb5786",
     "grade": false,
     "grade_id": "cell-13af5be7d3436e30",
     "locked": false,
     "schema_version": 1,
     "solution": true
    }
   },
   "outputs": [],
   "source": [
    "#gene2_patients = # get the Series of patients for Gene2\n",
    "#gene2_control = # get the series of control for Gene2\n",
    "\n",
    "# Mean\n",
    "\n",
    "#mean_gene2_patients = # Gene2 mean for patients\n",
    "#mean_gene2_control = # Gene2 mean for control\n",
    "\n",
    "# Median\n",
    "\n",
    "# median_gene2_patients = # Gene2 median for patients\n",
    "# median_gene2_control = # Gene2 median for control\n",
    "\n",
    "# Std\n",
    "\n",
    "# std_gene2_patients = # Gene2 std for patents\n",
    "# std_gene2_control = # Gene2 std for control\n",
    "\n",
    "\n",
    "# YOUR CODE HERE\n",
    "raise NotImplementedError()"
   ]
  },
  {
   "cell_type": "code",
   "execution_count": null,
   "metadata": {},
   "outputs": [],
   "source": [
    "print(\"Patients: Mean =\", mean_gene2_patients, \"Median =\", median_gene2_patients, \"Std =\", std_gene2_patients, \"\\t\")\n",
    "print(\"Control:  Mean =\", mean_gene2_control, \"Median =\", median_gene2_control, \"Std =\", std_gene2_control, \"\\t\")"
   ]
  },
  {
   "cell_type": "markdown",
   "metadata": {},
   "source": [
    "Expected outcome: \n",
    "    \n",
    "    Patients: Mean = 16955.4325 Median = 17023.491 Std = 2743.7304882937474 \t\n",
    "    Control:  Mean = 3439.741 Median = 3067.3015 Std = 1549.3355492407961"
   ]
  },
  {
   "cell_type": "code",
   "execution_count": null,
   "metadata": {
    "deletable": false,
    "editable": false,
    "nbgrader": {
     "checksum": "eee378b329df94a0d49bfe50fac3a3c5",
     "grade": true,
     "grade_id": "cell-a34b46b66a224081",
     "locked": true,
     "points": 1,
     "schema_version": 1,
     "solution": false
    }
   },
   "outputs": [],
   "source": [
    "assert math.isclose(mean_gene2_patients, 16955.4325, abs_tol=0.01)\n",
    "assert math.isclose(mean_gene2_control, 3439.741, abs_tol=0.01)\n",
    "assert math.isclose(median_gene2_patients, 17023.491, abs_tol=0.01)\n",
    "assert math.isclose(median_gene2_control, 3067.3015, abs_tol=0.01)"
   ]
  },
  {
   "cell_type": "markdown",
   "metadata": {
    "deletable": false,
    "editable": false,
    "nbgrader": {
     "checksum": "4b743892024eff122446d14397529486",
     "grade": false,
     "grade_id": "cell-77ec9e2d25111bbc",
     "locked": true,
     "schema_version": 1,
     "solution": false
    }
   },
   "source": [
    "## Can we do this without so much code?\n",
    "\n",
    "Can we obtain the previous statistics for the 6 genes without all the effort?\n",
    "\n",
    "_Remember:_ The `.describe()` method? "
   ]
  },
  {
   "cell_type": "markdown",
   "metadata": {
    "deletable": false,
    "editable": false,
    "nbgrader": {
     "checksum": "cf10000e9fee4f4c06aba1ef1a056f61",
     "grade": false,
     "grade_id": "cell-0bec7fb77545082d",
     "locked": true,
     "schema_version": 1,
     "solution": false
    }
   },
   "source": [
    "### Let's see for Patients"
   ]
  },
  {
   "cell_type": "code",
   "execution_count": null,
   "metadata": {
    "deletable": false,
    "nbgrader": {
     "checksum": "3ab9734db844326dc1b9ad9047289e77",
     "grade": false,
     "grade_id": "cell-1956a03d1c17634e",
     "locked": false,
     "schema_version": 1,
     "solution": true
    }
   },
   "outputs": [],
   "source": [
    "gene_names = [\"Gene1\", \"Gene2\"]\n",
    "\n",
    "# Get a dataframe that uses the describe for both genes for Patient group\n",
    "# describe_patients = \n",
    "# YOUR CODE HERE\n",
    "raise NotImplementedError()"
   ]
  },
  {
   "cell_type": "code",
   "execution_count": null,
   "metadata": {
    "deletable": false,
    "editable": false,
    "nbgrader": {
     "checksum": "d9430388c400b56175b023ea49a874d5",
     "grade": true,
     "grade_id": "cell-a067ed5cf6076095",
     "locked": true,
     "points": 1,
     "schema_version": 1,
     "solution": false
    }
   },
   "outputs": [],
   "source": [
    "assert math.isclose(describe_patients['Gene1']['count'], 158, abs_tol=0.01)\n",
    "assert math.isclose(describe_patients['Gene1']['std'], 3092.698144, abs_tol=0.01)\n",
    "assert math.isclose(describe_patients['Gene1']['50%'], 13555.230500, abs_tol=0.01)\n",
    "assert math.isclose(describe_patients['Gene2']['50%'], 17023.491000, abs_tol=0.01)"
   ]
  },
  {
   "cell_type": "markdown",
   "metadata": {},
   "source": [
    "### Let's see for  Control"
   ]
  },
  {
   "cell_type": "code",
   "execution_count": null,
   "metadata": {
    "deletable": false,
    "nbgrader": {
     "checksum": "933f11ab2305bd87d5ed0d4ed7a68715",
     "grade": false,
     "grade_id": "cell-bc87d0095baf7c11",
     "locked": false,
     "schema_version": 1,
     "solution": true
    }
   },
   "outputs": [],
   "source": [
    "###### gene_names = [\"Gene1\", \"Gene2\"]\n",
    "\n",
    "# Get a dataframe that uses the describe both genes for Control group\n",
    "# describe_control = \n",
    "\n",
    "# YOUR CODE HERE\n",
    "raise NotImplementedError()"
   ]
  },
  {
   "cell_type": "code",
   "execution_count": null,
   "metadata": {
    "deletable": false,
    "editable": false,
    "nbgrader": {
     "checksum": "1a4f523ffafdbb5bb76f5c515f4806e4",
     "grade": true,
     "grade_id": "cell-07893f7ace39f7e9",
     "locked": true,
     "points": 1,
     "schema_version": 1,
     "solution": false
    }
   },
   "outputs": [],
   "source": [
    "assert math.isclose(describe_control['Gene1']['count'], 26)\n",
    "assert math.isclose(describe_control['Gene1']['std'], 854.975521)\n",
    "assert math.isclose(describe_control['Gene1']['50%'], 947.109500)\n",
    "assert math.isclose(describe_control['Gene2']['50%'], 3067.301500)"
   ]
  },
  {
   "cell_type": "markdown",
   "metadata": {},
   "source": [
    "## Get a list with the possible Result (there is a column `Result`) "
   ]
  },
  {
   "cell_type": "code",
   "execution_count": null,
   "metadata": {
    "deletable": false,
    "nbgrader": {
     "checksum": "6faec1e3b62366ffd018100aea57f151",
     "grade": false,
     "grade_id": "cell-53a07b84e8907d45",
     "locked": false,
     "schema_version": 1,
     "solution": true
    }
   },
   "outputs": [],
   "source": [
    "# get a list with the unique possible results (there is a column for this)\n",
    "# result_list = \n",
    "\n",
    "# YOUR CODE HERE\n",
    "raise NotImplementedError()"
   ]
  },
  {
   "cell_type": "code",
   "execution_count": null,
   "metadata": {
    "deletable": false,
    "editable": false,
    "nbgrader": {
     "checksum": "d261d989fc17dde818e3fe6c48076aa1",
     "grade": true,
     "grade_id": "cell-33d9e4bc6fbed61a",
     "locked": true,
     "points": 1,
     "schema_version": 1,
     "solution": false
    }
   },
   "outputs": [],
   "source": [
    "assert len(result_list)==8\n",
    "assert 'control' in result_list\n",
    "assert '02: Skilled nursing facility' in result_list"
   ]
  }
 ],
 "metadata": {
  "kernelspec": {
   "display_name": "Python 3",
   "language": "python",
   "name": "python3"
  },
  "language_info": {
   "codemirror_mode": {
    "name": "ipython",
    "version": 3
   },
   "file_extension": ".py",
   "mimetype": "text/x-python",
   "name": "python",
   "nbconvert_exporter": "python",
   "pygments_lexer": "ipython3",
   "version": "3.6.4"
  }
 },
 "nbformat": 4,
 "nbformat_minor": 2
}
