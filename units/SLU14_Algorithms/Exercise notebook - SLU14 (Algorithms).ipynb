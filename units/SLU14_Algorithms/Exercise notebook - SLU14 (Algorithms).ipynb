{
 "cells": [
  {
   "cell_type": "markdown",
   "metadata": {
    "deletable": false,
    "editable": false,
    "nbgrader": {
     "checksum": "c2fd40607250c140bc27646d2ed72977",
     "grade": false,
     "grade_id": "cell-d0b4b4edb734f47c",
     "locked": true,
     "schema_version": 1,
     "solution": false
    }
   },
   "source": [
    "# SLU14 - Algorithms: Exercise notebook\n",
    "\n",
    "In this notebook we will practice using:\n",
    "\n",
    "- K-nearest neighbours\n",
    "- Gaussian Naive Bayes\n",
    "- Decision Tree\n",
    "- Random Forest"
   ]
  },
  {
   "cell_type": "code",
   "execution_count": null,
   "metadata": {
    "deletable": false,
    "editable": false,
    "nbgrader": {
     "checksum": "fcfe28538eb62080248cfebdb906f819",
     "grade": false,
     "grade_id": "cell-aca69baedcf86188",
     "locked": true,
     "schema_version": 1,
     "solution": false
    }
   },
   "outputs": [],
   "source": [
    "# Import pandas and numpy\n",
    "import pandas as pd\n",
    "import numpy as np\n",
    "\n",
    "# Import the classifiers we will be using\n",
    "from sklearn.neighbors import KNeighborsClassifier\n",
    "from sklearn.naive_bayes import GaussianNB\n",
    "from sklearn.tree import DecisionTreeClassifier\n",
    "from sklearn.ensemble import RandomForestClassifier\n",
    "\n",
    "# Import train/test split function\n",
    "from sklearn.model_selection import train_test_split\n",
    "\n",
    "# Import ROC AUC scoring function\n",
    "from sklearn.metrics import roc_auc_score"
   ]
  },
  {
   "cell_type": "markdown",
   "metadata": {
    "deletable": false,
    "editable": false,
    "nbgrader": {
     "checksum": "bb9076251d5723f47faa486ba223820d",
     "grade": false,
     "grade_id": "cell-0da2d91783e76aca",
     "locked": true,
     "schema_version": 1,
     "solution": false
    }
   },
   "source": [
    "[The Wisconsin breast cancer dataset](https://www.kaggle.com/uciml/breast-cancer-wisconsin-data) is a breast cancer diagnostic dataset: these features are computed from a digitized image of a fine needle aspirate (FNA) of a breast mass.\n",
    "\n",
    "`diagnosis` is our target: 0 for benign, 1 for malignant.\n",
    "\n",
    "First we'll read in our dataset and create the train/test split:"
   ]
  },
  {
   "cell_type": "code",
   "execution_count": null,
   "metadata": {
    "deletable": false,
    "editable": false,
    "nbgrader": {
     "checksum": "65157755b06142e5dce71e133d7d480e",
     "grade": false,
     "grade_id": "cell-c569d24b4400db64",
     "locked": true,
     "schema_version": 1,
     "solution": false
    }
   },
   "outputs": [],
   "source": [
    "dataset = pd.read_csv('data/breast_cancer.csv', index_col='id')\n",
    "\n",
    "features = dataset.drop('diagnosis', axis=1)\n",
    "label = dataset['diagnosis']\n",
    "\n",
    "X_train, X_test, y_train, y_test = train_test_split(features, label, test_size=0.33, random_state=0)"
   ]
  },
  {
   "cell_type": "markdown",
   "metadata": {
    "deletable": false,
    "editable": false,
    "nbgrader": {
     "checksum": "4634cc3bd145d6c9074cb104778c5572",
     "grade": false,
     "grade_id": "cell-663b0af873220014",
     "locked": true,
     "schema_version": 1,
     "solution": false
    }
   },
   "source": [
    "# Exercise 1: Train a K-Nearest-Neighbors Classifier\n",
    "\n",
    "Set the variable for the instance of the model as `knn`."
   ]
  },
  {
   "cell_type": "code",
   "execution_count": null,
   "metadata": {
    "deletable": false,
    "nbgrader": {
     "checksum": "5bcc241c7e30a9aa25efe079fc056af6",
     "grade": false,
     "grade_id": "cell-ba21e3246562e909",
     "locked": false,
     "schema_version": 1,
     "solution": true
    }
   },
   "outputs": [],
   "source": [
    "# YOUR CODE HERE\n",
    "raise NotImplementedError()"
   ]
  },
  {
   "cell_type": "code",
   "execution_count": null,
   "metadata": {
    "deletable": false,
    "editable": false,
    "nbgrader": {
     "checksum": "143d1e801a1a9fb0305587056b855eeb",
     "grade": true,
     "grade_id": "cell-ada4969bd1800b2d",
     "locked": true,
     "points": 0,
     "schema_version": 1,
     "solution": false
    }
   },
   "outputs": [],
   "source": [
    "y_pred = knn.predict_proba(X_test)\n",
    "score = roc_auc_score(y_test, y_pred[:,1])\n",
    "assert score > 0.7"
   ]
  },
  {
   "cell_type": "markdown",
   "metadata": {
    "deletable": false,
    "editable": false,
    "nbgrader": {
     "checksum": "c4ace6579fd36cb9652c2986bfa54a12",
     "grade": false,
     "grade_id": "cell-0e0d98984c02ee0e",
     "locked": true,
     "schema_version": 1,
     "solution": false
    }
   },
   "source": [
    "# Exercise 2: Train a Naive Bayes Classifier\n",
    "Set the variable for the instance of the model as `naive_bayes`."
   ]
  },
  {
   "cell_type": "code",
   "execution_count": null,
   "metadata": {
    "deletable": false,
    "nbgrader": {
     "checksum": "0140207c365e3b6740e5780274a43041",
     "grade": false,
     "grade_id": "cell-74e9e6407fc91741",
     "locked": false,
     "schema_version": 1,
     "solution": true
    }
   },
   "outputs": [],
   "source": [
    "# YOUR CODE HERE\n",
    "raise NotImplementedError()"
   ]
  },
  {
   "cell_type": "code",
   "execution_count": null,
   "metadata": {
    "deletable": false,
    "editable": false,
    "nbgrader": {
     "checksum": "bc37678bf2fcb3ce9f59488fe7b19b96",
     "grade": true,
     "grade_id": "cell-d83c8fa3b303ca85",
     "locked": true,
     "points": 0,
     "schema_version": 1,
     "solution": false
    }
   },
   "outputs": [],
   "source": [
    "y_pred = naive_bayes.predict_proba(X_test)\n",
    "score = roc_auc_score(y_test, y_pred[:,1])\n",
    "assert score > 0.7"
   ]
  },
  {
   "cell_type": "markdown",
   "metadata": {
    "deletable": false,
    "editable": false,
    "nbgrader": {
     "checksum": "44e06aca83e1799d013ed3a25acb0a2a",
     "grade": false,
     "grade_id": "cell-5a76bc08c6384c15",
     "locked": true,
     "schema_version": 1,
     "solution": false
    }
   },
   "source": [
    "# Exercise 3: Train a Decision Tree Classifier\n",
    "Set the variable for the instance of the model as `decision_tree`."
   ]
  },
  {
   "cell_type": "code",
   "execution_count": null,
   "metadata": {
    "deletable": false,
    "nbgrader": {
     "checksum": "40908b6aae18c20ac1cae3964bb6f2f1",
     "grade": false,
     "grade_id": "cell-f6896adae562e4ac",
     "locked": false,
     "schema_version": 1,
     "solution": true
    }
   },
   "outputs": [],
   "source": [
    "# YOUR CODE HERE\n",
    "raise NotImplementedError()"
   ]
  },
  {
   "cell_type": "code",
   "execution_count": null,
   "metadata": {
    "deletable": false,
    "editable": false,
    "nbgrader": {
     "checksum": "bddf1298b22f7132a0aed62141772a4c",
     "grade": true,
     "grade_id": "cell-44f85a5b4f8d02aa",
     "locked": true,
     "points": 0,
     "schema_version": 1,
     "solution": false
    }
   },
   "outputs": [],
   "source": [
    "y_pred = decision_tree.predict_proba(X_test)\n",
    "score = roc_auc_score(y_test, y_pred[:,1])\n",
    "assert score > 0.7"
   ]
  },
  {
   "cell_type": "markdown",
   "metadata": {
    "deletable": false,
    "editable": false,
    "nbgrader": {
     "checksum": "539adbf0d0d452dee79b7de7fc8e0755",
     "grade": false,
     "grade_id": "cell-3d4e031183d12e68",
     "locked": true,
     "schema_version": 1,
     "solution": false
    }
   },
   "source": [
    "# Exercise 4: Train a Random Forest Classifier\n",
    "Set the variable for the instance of the model as `random_forest`."
   ]
  },
  {
   "cell_type": "code",
   "execution_count": null,
   "metadata": {
    "deletable": false,
    "nbgrader": {
     "checksum": "d4a2a7370563e5c3390eaef75d0fd1af",
     "grade": false,
     "grade_id": "cell-3662d60aeb6602df",
     "locked": false,
     "schema_version": 1,
     "solution": true
    }
   },
   "outputs": [],
   "source": [
    "# YOUR CODE HERE\n",
    "raise NotImplementedError()"
   ]
  },
  {
   "cell_type": "code",
   "execution_count": null,
   "metadata": {
    "deletable": false,
    "editable": false,
    "nbgrader": {
     "checksum": "e1716da4cee8708a860dcd9bbb4052ac",
     "grade": true,
     "grade_id": "cell-b62b0b100d4cb42e",
     "locked": true,
     "points": 0,
     "schema_version": 1,
     "solution": false
    }
   },
   "outputs": [],
   "source": [
    "y_pred = random_forest.predict_proba(X_test)\n",
    "score = roc_auc_score(y_test, y_pred[:,1])\n",
    "assert score > 0.7"
   ]
  }
 ],
 "metadata": {
  "kernelspec": {
   "display_name": "Python 3",
   "language": "python",
   "name": "python3"
  },
  "language_info": {
   "codemirror_mode": {
    "name": "ipython",
    "version": 3
   },
   "file_extension": ".py",
   "mimetype": "text/x-python",
   "name": "python",
   "nbconvert_exporter": "python",
   "pygments_lexer": "ipython3",
   "version": "3.6.4"
  }
 },
 "nbformat": 4,
 "nbformat_minor": 2
}
