{
 "cells": [
  {
   "cell_type": "markdown",
   "metadata": {},
   "source": [
    "# Intermediate statistics - Exercise notebook"
   ]
  },
  {
   "cell_type": "code",
   "execution_count": null,
   "metadata": {},
   "outputs": [],
   "source": [
    "import pandas as pd \n",
    "import numpy as np "
   ]
  },
  {
   "cell_type": "markdown",
   "metadata": {},
   "source": [
    "In this notebook you will practice the following: \n",
    "\n",
    "    - Covariance \n",
    "    - Pearson correlation\n",
    "    - Spearman correlation\n",
    "    - Correlation matrix\n",
    "    - Spurious correlations"
   ]
  },
  {
   "cell_type": "markdown",
   "metadata": {},
   "source": [
    "# Exercise 1: implement covariance "
   ]
  },
  {
   "cell_type": "markdown",
   "metadata": {},
   "source": [
    "Here you will implment covariance, by completing the following function. \n",
    "\n",
    "Don't worry too much about generalizing, this will be an extremely naïve implementation, just to get your hands dirty! "
   ]
  },
  {
   "cell_type": "markdown",
   "metadata": {},
   "source": [
    "Quick reminder of the formula: \n",
    "$$ cov = \\frac{\\sum{(X - X_{avg})(Y - Y_{avg})}}{n-1} $$"
   ]
  },
  {
   "cell_type": "markdown",
   "metadata": {},
   "source": [
    "#### Complete here: "
   ]
  },
  {
   "cell_type": "code",
   "execution_count": null,
   "metadata": {},
   "outputs": [],
   "source": [
    "def covariance_by_hand(s1, s2):\n",
    "    \"\"\" \n",
    "    Naive implementation of covariance by hand \n",
    "    \n",
    "    Args:\n",
    "        s1 (Pd.Series): a pandas series \n",
    "        s2 (Pd.Series): a pandas series (the same index and length as s1)\n",
    "\n",
    "    Returns:\n",
    "        covariance (float): the covariance between s1 and s2 \n",
    "\n",
    "    \"\"\"\n",
    "    \n",
    "    # get the mean of each series (~2 lines)\n",
    "    s1_avg = \n",
    "    s2_avg = \n",
    "    \n",
    "    # for each series, subtract the mean to each point (~2 lines)\n",
    "    s1_minus_s1_avg = \n",
    "    s2_minus_s2_avg = \n",
    "    \n",
    "    # get the element-wise product between the two columns (~1 line)\n",
    "    element_wise_product = \n",
    "    \n",
    "    # sum the element-wise product series, to get the top side of the equasion (~1 line)\n",
    "    element_wise_product_sum = \n",
    "    \n",
    "    # divide the upper part of the equasion by the (number of elements - 1)  (~2 lines)\n",
    "    # clue: use s1 to get the number of elements \n",
    "    n = \n",
    "    covariance = \n",
    "    \n",
    "    return covariance "
   ]
  },
  {
   "cell_type": "markdown",
   "metadata": {},
   "source": [
    "#### Test output (don't change code here) "
   ]
  },
  {
   "cell_type": "code",
   "execution_count": null,
   "metadata": {},
   "outputs": [],
   "source": [
    "a = pd.Series([1, 5, 7, 10, 25])\n",
    "b = pd.Series([15, 30, 28, 45, 50])\n",
    "print('Covariance by hand between a and b: %0.02f' % covariance_by_hand(a, b))"
   ]
  },
  {
   "cell_type": "markdown",
   "metadata": {},
   "source": [
    "Expected output:   \n",
    "\n",
    "    Covariance by hand between a and b: 112.05"
   ]
  },
  {
   "cell_type": "markdown",
   "metadata": {},
   "source": [
    "# Exercise 2: implement pearson correlation"
   ]
  },
  {
   "cell_type": "markdown",
   "metadata": {},
   "source": [
    "Correlation is simply normalized covariance! "
   ]
  },
  {
   "cell_type": "markdown",
   "metadata": {},
   "source": [
    "$$ correlation = \\frac{covariance(X, Y)}{\\sqrt{Var(X) * Var(Y)}} $$"
   ]
  },
  {
   "cell_type": "markdown",
   "metadata": {},
   "source": [
    "#### Complete here: "
   ]
  },
  {
   "cell_type": "code",
   "execution_count": null,
   "metadata": {},
   "outputs": [],
   "source": [
    "def pearson_correlation_by_hand(s1, s2): \n",
    "    \"\"\" \n",
    "    Naive implementation of pearson correlation\n",
    "    \n",
    "    Args:\n",
    "        s1 (Pd.Series): a pandas series \n",
    "        s2 (Pd.Series): a pandas series (the same index and length as s1)\n",
    "\n",
    "    Returns:\n",
    "        correlation (float): the correlation between s1 and s2 \n",
    "\n",
    "    \"\"\"\n",
    "    \n",
    "    # get the variance of s1 and s2 (~2 lines)\n",
    "    var_s1 = \n",
    "    var_s2 = \n",
    "    \n",
    "    # calculate the bottom half of the correlation formula (~2 lines)\n",
    "    # clue: to do the square root, use np.sqrt(var_s1_times_var_s2)\n",
    "    var_s1_times_var_s2 = \n",
    "    bottom_half_of_correlation_formula = \n",
    "    \n",
    "    # finally, calculate the correlation \n",
    "    # clue: remember, you've already implemented the top half in exercise one, you can use that now \n",
    "    correlation = \n",
    "    \n",
    "    return correlation"
   ]
  },
  {
   "cell_type": "markdown",
   "metadata": {},
   "source": [
    "#### Test output (don't change code here) "
   ]
  },
  {
   "cell_type": "code",
   "execution_count": null,
   "metadata": {},
   "outputs": [],
   "source": [
    "print('Correlation by hand between a and b: %0.02f' % pearson_correlation_by_hand(a, b))"
   ]
  },
  {
   "cell_type": "markdown",
   "metadata": {},
   "source": [
    "Expected output:   \n",
    "\n",
    "    Correlation by hand between a and b: 0.87"
   ]
  },
  {
   "cell_type": "markdown",
   "metadata": {},
   "source": [
    "# Exercise 3: using the pandas versions "
   ]
  },
  {
   "cell_type": "markdown",
   "metadata": {},
   "source": [
    "#### Complete here: "
   ]
  },
  {
   "cell_type": "code",
   "execution_count": null,
   "metadata": {},
   "outputs": [],
   "source": [
    "def summarize_relationship(s1, s2): \n",
    "    \"\"\" \n",
    "    Uses the pandas implementation to summarize relationships between series \n",
    "    \n",
    "    Args:\n",
    "        s1 (Pd.Series): a pandas series \n",
    "        s2 (Pd.Series): a pandas series (the same index and length as s1)\n",
    "\n",
    "    Returns:\n",
    "        summary (dict): dictionary containing covariance, pearson and spearman correlation\n",
    "\n",
    "    \"\"\"\n",
    "    # using pandas, compute the covariance between s1 and s2 (1 line)\n",
    "    covariance = \n",
    "    # using pandas, compute the pearson correlation between s1 and s2 (1 line)\n",
    "    pearson_corr = \n",
    "    # using pandas, compute the spearman correlation between s1 and s2 (1 line)\n",
    "    spearman_corr = \n",
    "    \n",
    "    return {'covariance': covariance, 'pearson': pearson_corr, 'spearman': spearman_corr}"
   ]
  },
  {
   "cell_type": "markdown",
   "metadata": {},
   "source": [
    "#### Test output (don't change code here) "
   ]
  },
  {
   "cell_type": "code",
   "execution_count": null,
   "metadata": {},
   "outputs": [],
   "source": [
    "a = pd.Series([1, 5, 7, 10, 25])\n",
    "b = pd.Series([15, 30, 28, 45, 50])\n",
    "c = b * 7\n",
    "\n",
    "\n",
    "summary_a_c = summarize_relationship(a, c)\n",
    "\n",
    "for name, series in {'b': b, 'c': c}.items(): \n",
    "    summary = summarize_relationship(a, series)\n",
    "    print('Between a and %s, the covariance is %0.0f, '\n",
    "      'the pearson correlation is %0.02f and the spearman '\n",
    "      'correlation is %0.02f' % (name, \n",
    "                                 summary['covariance'], \n",
    "                                 summary['pearson'], \n",
    "                                 summary['spearman']))"
   ]
  },
  {
   "cell_type": "markdown",
   "metadata": {},
   "source": [
    "Expected output: \n",
    "   \n",
    "    Between a and c, the covariance is 784, the pearson correlation is 0.87 and the spearman correlation is 0.90\n",
    "    Between a and b, the covariance is 112, the pearson correlation is 0.87 and the spearman correlation is 0.90"
   ]
  },
  {
   "cell_type": "markdown",
   "metadata": {},
   "source": [
    "Side question: can you remember why the correlation is the same, given that `c = b * 7`? "
   ]
  },
  {
   "cell_type": "markdown",
   "metadata": {},
   "source": [
    "# Exercise 4: time for some fun "
   ]
  },
  {
   "cell_type": "markdown",
   "metadata": {},
   "source": [
    "The 'affairs' dataset is a data science classic. It is the result of a questionaire of US marriages, and attempts to understand what factors are correlated with couples having affairs. \n",
    "\n",
    "Your job, is to analyze this dataset using whatever tools you wish, and complete the following analysis. \n",
    "\n",
    "_Hint: the correlation matrix, and the heatmap visualization might come in handy_"
   ]
  },
  {
   "cell_type": "code",
   "execution_count": null,
   "metadata": {},
   "outputs": [],
   "source": [
    "data = pd.read_csv('affairs.csv')"
   ]
  },
  {
   "cell_type": "markdown",
   "metadata": {},
   "source": [
    "#### Complete here "
   ]
  },
  {
   "cell_type": "code",
   "execution_count": null,
   "metadata": {},
   "outputs": [],
   "source": [
    "analysis = {}\n",
    "\n",
    "# what is the name of the variable with the highest correlation with the number of affairs? \n",
    "analysis['highest_correlation_with_affair'] = \n",
    "\n",
    "# what is the name of the variable with the lowest (most negative) correlation with the number of affairs? \n",
    "analysis['lowest_correlation_with_affair'] = \n",
    "\n",
    "# what is the correlation between having a child, and having an affair? \n",
    "analysis['corr_between_child_and_affair'] = \n",
    "\n",
    "# can you think of a confounding variable that might suggest children don't actually cause affairs? \n",
    "analysis['possible confounding variable'] = "
   ]
  },
  {
   "cell_type": "markdown",
   "metadata": {},
   "source": [
    "#### Test output (don't change code here) "
   ]
  },
  {
   "cell_type": "code",
   "execution_count": null,
   "metadata": {},
   "outputs": [],
   "source": [
    "print('The variable that correlates most positively with having an affair is '\n",
    "      '\"%s\". \\n\\nThe variable \"%s\" seems to correlate negatively with the number of affairs, \\nbut '\n",
    "      'there is no way to establish a direction of causality. \\n\\nWe did find '\n",
    "      'a correlation between the presence of a child and an affair of \"%0.02f\", '\n",
    "      '\\nhowever this might be partially or entirely explained '\n",
    "      'by the presence confounding variable \"%s\"' % \n",
    "      (analysis['highest_correlation_with_affair'], \n",
    "      analysis['lowest_correlation_with_affair'],\n",
    "      analysis['corr_between_child_and_affair'],\n",
    "      analysis['possible confounding variable']))"
   ]
  },
  {
   "cell_type": "markdown",
   "metadata": {},
   "source": [
    "Expected output: \n",
    "\n",
    "    The variable that correlates most positively with having an affair is \"years_married\". \n",
    "\n",
    "    The variable \"self_quality_rating\" seems to correlate negatively with the number of affairs, \n",
    "    but there is no way to establish a direction of causality. \n",
    "\n",
    "    We did find a correlation between the presence of a child and an affair of \"0.10\", \n",
    "    however this might be partially or entirely explained by the presence confounding variable \"years_married\""
   ]
  },
  {
   "cell_type": "markdown",
   "metadata": {},
   "source": [
    "# If you have some free time (optional) "
   ]
  },
  {
   "cell_type": "markdown",
   "metadata": {},
   "source": [
    "If you have free time, try exploring the housing dataset from the learning notebook further. "
   ]
  }
 ],
 "metadata": {
  "kernelspec": {
   "display_name": "Python 3",
   "language": "python",
   "name": "python3"
  },
  "language_info": {
   "codemirror_mode": {
    "name": "ipython",
    "version": 3
   },
   "file_extension": ".py",
   "mimetype": "text/x-python",
   "name": "python",
   "nbconvert_exporter": "python",
   "pygments_lexer": "ipython3",
   "version": "3.4.3"
  }
 },
 "nbformat": 4,
 "nbformat_minor": 2
}
